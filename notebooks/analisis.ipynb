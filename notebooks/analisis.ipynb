{
 "cells": [
  {
   "cell_type": "markdown",
   "id": "679d4ba5",
   "metadata": {},
   "source": [
    "Lectura del archivo y normalizacion del archivo y lecutra de los modulos de la automatizacion\n"
   ]
  },
  {
   "cell_type": "code",
   "execution_count": null,
   "id": "3bf87562",
   "metadata": {},
   "outputs": [],
   "source": [
    "import sys\n",
    "import os\n",
    "from pathlib import Path\n",
    "\n",
    "\n",
    "# 1. Detectar raíz del proyecto (subiendo desde el cwd)\n",
    "project_root = Path(os.getcwd()).resolve().parent  # sube un nivel desde notebooks/\n",
    "sys.path.append(str(project_root))\n",
    "\n",
    "# 2. Ruta hacia el módulo src/\n",
    "src_path = project_root / \"src\"\n",
    "if str(src_path) not in sys.path:\n",
    "    sys.path.append(str(src_path))\n",
    "\n",
    "# 3. Importar módulos desde src/\n",
    "from src.data_loading import (\n",
    "    cargar_datos_excel\n",
    ")\n",
    "from src.exploracion import (\n",
    "    estandarizar_columnas,\n",
    "    convertir_fechas,\n",
    ")\n",
    "from src.rentabilidad import (\n",
    "    calcular_rentabilidad,\n",
    "    resumen_rentabilidad,\n",
    ")\n",
    "from src.exportacion import (\n",
    "    exportar_excel,\n",
    ")"
   ]
  },
  {
   "cell_type": "code",
   "execution_count": 17,
   "id": "8b4784b4",
   "metadata": {},
   "outputs": [
    {
     "name": "stdout",
     "output_type": "stream",
     "text": [
      "Index(['numero_venta', 'mes_salida', 'dia_salida', 'ano_salida', 'mes_entrega',\n",
      "       'dia_entrega', 'ano_entrega', 'metodo_envio', 'numero_cliente',\n",
      "       'nombre_cliente', 'segmento', 'ciudad', 'estado', 'pais', 'id_producto',\n",
      "       'ventas', 'cantidad', 'descuento', 'utilidad', 'costo_envio',\n",
      "       'prioridad_envio', 'fecha_salida', 'fecha_entrega', 'tiempo_entrega'],\n",
      "      dtype='object')\n"
     ]
    }
   ],
   "source": [
    "print(df.columns)"
   ]
  },
  {
   "cell_type": "code",
   "execution_count": 19,
   "id": "f3c6cfd4",
   "metadata": {},
   "outputs": [
    {
     "name": "stdout",
     "output_type": "stream",
     "text": [
      "✅ Informe de rentabilidad exportado con éxito.\n"
     ]
    }
   ],
   "source": [
    "from src.exportacion import exportar_excel\n",
    "import os\n",
    "\n",
    "# Asegurar que el directorio de salida existe\n",
    "os.makedirs(\"../data/outputs\", exist_ok=True)\n",
    "\n",
    "# Definir rutas de salida\n",
    "ruta_excel = \"../data/outputs/informe_rentabilidad.xlsx\"\n",
    "ruta_csv = \"../data/outputs/informe_rentabilidad.csv\"\n",
    "\n",
    "# Exportar\n",
    "exportar_excel(resumen, ruta_excel)\n",
    "resumen.to_csv(ruta_csv, index=False)\n",
    "\n",
    "print(\"✅ Informe de rentabilidad exportado con éxito.\")\n"
   ]
  }
 ],
 "metadata": {
  "kernelspec": {
   "display_name": "venv",
   "language": "python",
   "name": "python3"
  },
  "language_info": {
   "codemirror_mode": {
    "name": "ipython",
    "version": 3
   },
   "file_extension": ".py",
   "mimetype": "text/x-python",
   "name": "python",
   "nbconvert_exporter": "python",
   "pygments_lexer": "ipython3",
   "version": "3.12.10"
  }
 },
 "nbformat": 4,
 "nbformat_minor": 5
}
