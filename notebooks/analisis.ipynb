{
 "cells": [
  {
   "cell_type": "markdown",
   "id": "679d4ba5",
   "metadata": {},
   "source": [
    "Lectura del archivo y normalizacion de titulos (headers)"
   ]
  },
  {
   "cell_type": "code",
   "execution_count": 2,
   "id": "784417dd",
   "metadata": {},
   "outputs": [
    {
     "name": "stdout",
     "output_type": "stream",
     "text": [
      "Columnas normalizadas:\n",
      "['numero_venta', 'mes_salida', 'dia_salida', 'ano_salida', 'mes_entrega', 'dia_entrega', 'ano_entrega', 'metodo_envio', 'numero_cliente', 'nombre_cliente', 'segmento', 'ciudad', 'estado', 'pais', 'id_producto', 'ventas', 'cantidad', 'descuento', 'utilidad', 'costo_envio', 'prioridad_envio']\n"
     ]
    }
   ],
   "source": [
    "import pandas as pd\n",
    "import unicodedata\n",
    "archivo = \"../data/Sales report completa.xlsx\"\n",
    "df = pd.read_excel(archivo, sheet_name=\"Ventas Supermercado\")\n",
    "\n",
    "def normalizar_columna (nombre):\n",
    "    nombre = unicodedata.normalize('NFKD', nombre) .encode('ascii', 'ignore').decode('ASCII' , \"ignore\")\n",
    "    nombre = nombre.lower() .replace(\" \", \"_\") .replace(\"-\", \"_\") .replace(\".\", \"_\")\n",
    "    return nombre\n",
    "\n",
    "df.columns = [normalizar_columna(col) for col in df.columns]\n",
    "\n",
    "print(\"Columnas normalizadas:\")\n",
    "print(df.columns.tolist())\n"
   ]
  },
  {
   "cell_type": "markdown",
   "id": "debfab55",
   "metadata": {},
   "source": [
    "Reajuste del codigo para depurar posibles inconsistencias en el formato de la fecha"
   ]
  },
  {
   "cell_type": "code",
   "execution_count": null,
   "id": "81eebdba",
   "metadata": {},
   "outputs": [
    {
     "name": "stdout",
     "output_type": "stream",
     "text": [
      "  fecha_salida fecha_entrega\n",
      "0   2011-01-01    2011-01-06\n",
      "1   2011-01-01    2011-01-08\n",
      "2   2011-01-01    2011-01-05\n",
      "3   2011-01-01    2011-01-05\n",
      "4   2011-01-01    2011-01-08\n"
     ]
    },
    {
     "data": {
      "text/html": [
       "<div>\n",
       "<style scoped>\n",
       "    .dataframe tbody tr th:only-of-type {\n",
       "        vertical-align: middle;\n",
       "    }\n",
       "\n",
       "    .dataframe tbody tr th {\n",
       "        vertical-align: top;\n",
       "    }\n",
       "\n",
       "    .dataframe thead th {\n",
       "        text-align: right;\n",
       "    }\n",
       "</style>\n",
       "<table border=\"1\" class=\"dataframe\">\n",
       "  <thead>\n",
       "    <tr style=\"text-align: right;\">\n",
       "      <th></th>\n",
       "      <th>numero_venta</th>\n",
       "      <th>mes_salida</th>\n",
       "      <th>dia_salida</th>\n",
       "      <th>ano_salida</th>\n",
       "      <th>mes_entrega</th>\n",
       "      <th>dia_entrega</th>\n",
       "      <th>ano_entrega</th>\n",
       "      <th>metodo_envio</th>\n",
       "      <th>numero_cliente</th>\n",
       "      <th>nombre_cliente</th>\n",
       "      <th>...</th>\n",
       "      <th>pais</th>\n",
       "      <th>id_producto</th>\n",
       "      <th>ventas</th>\n",
       "      <th>cantidad</th>\n",
       "      <th>descuento</th>\n",
       "      <th>utilidad</th>\n",
       "      <th>costo_envio</th>\n",
       "      <th>prioridad_envio</th>\n",
       "      <th>fecha_salida</th>\n",
       "      <th>fecha_entrega</th>\n",
       "    </tr>\n",
       "  </thead>\n",
       "  <tbody>\n",
       "  </tbody>\n",
       "</table>\n",
       "<p>0 rows × 23 columns</p>\n",
       "</div>"
      ],
      "text/plain": [
       "Empty DataFrame\n",
       "Columns: [numero_venta, mes_salida, dia_salida, ano_salida, mes_entrega, dia_entrega, ano_entrega, metodo_envio, numero_cliente, nombre_cliente, segmento, ciudad, estado, pais, id_producto, ventas, cantidad, descuento, utilidad, costo_envio, prioridad_envio, fecha_salida, fecha_entrega]\n",
       "Index: []\n",
       "\n",
       "[0 rows x 23 columns]"
      ]
     },
     "execution_count": 8,
     "metadata": {},
     "output_type": "execute_result"
    }
   ],
   "source": [
    "# Usar tipo Int64 que permite NaN\n",
    "for col in ['ano_salida', 'mes_salida', 'dia_salida', 'ano_entrega', 'mes_entrega', 'dia_entrega']:\n",
    "    df[col] = df[col].astype('Int64')\n",
    "\n",
    "# Crear fechas con errores coercibles como NaT\n",
    "df['fecha_salida'] = pd.to_datetime(\n",
    "    df[['ano_salida', 'mes_salida', 'dia_salida']].rename(\n",
    "        columns={'ano_salida': 'year', 'mes_salida': 'month', 'dia_salida': 'day'}\n",
    "    ), errors='coerce'\n",
    ")\n",
    "\n",
    "df['fecha_entrega'] = pd.to_datetime(\n",
    "    df[['ano_entrega', 'mes_entrega', 'dia_entrega']].rename(\n",
    "        columns={'ano_entrega': 'year', 'mes_entrega': 'month', 'dia_entrega': 'day'}\n",
    "    ), errors='coerce'\n",
    ")\n",
    "print(df[['fecha_salida', 'fecha_entrega']].head())\n",
    "\n",
    "\n"
   ]
  },
  {
   "cell_type": "markdown",
   "id": "cf8c4a0a",
   "metadata": {},
   "source": [
    "Muestra la cantidad de veces que aparece un producto (mas vendido)"
   ]
  },
  {
   "cell_type": "code",
   "execution_count": 5,
   "id": "2aed13e1",
   "metadata": {},
   "outputs": [
    {
     "name": "stdout",
     "output_type": "stream",
     "text": [
      "id_producto\n",
      "OFF-AR-10003651    35\n",
      "OFF-AR-10003829    31\n",
      "OFF-BI-10002799    30\n",
      "OFF-BI-10003708    30\n",
      "FUR-CH-10003354    28\n",
      "                   ..\n",
      "FUR-BO-10001524     1\n",
      "TEC-MA-10001841     1\n",
      "FUR-FU-10000067     1\n",
      "OFF-EN-10000872     1\n",
      "OFF-AR-10001129     1\n",
      "Name: count, Length: 10292, dtype: int64\n"
     ]
    }
   ],
   "source": [
    "ventas_por_producto = df['id_producto'].value_counts()\n",
    "print(ventas_por_producto)"
   ]
  },
  {
   "cell_type": "markdown",
   "id": "66bedecb",
   "metadata": {},
   "source": [
    "Cuenta las veces que aparece un cliente"
   ]
  },
  {
   "cell_type": "code",
   "execution_count": 6,
   "id": "999882b6",
   "metadata": {},
   "outputs": [
    {
     "name": "stdout",
     "output_type": "stream",
     "text": [
      "nombre_cliente\n",
      "Muhammed Yedwab    108\n",
      "Steven Ward        106\n",
      "Gary Hwang         102\n",
      "Patrick O'Brill    102\n",
      "Bill Eplett        102\n",
      "                  ... \n",
      "Andy Reiter         35\n",
      "David Bremer        34\n",
      "Nicole Brennan      31\n",
      "Darren Budd         31\n",
      "Michael Oakman      29\n",
      "Name: count, Length: 795, dtype: int64\n"
     ]
    }
   ],
   "source": [
    "frecuencia_cliente = df['nombre_cliente'].value_counts()\n",
    "print(frecuencia_cliente)"
   ]
  },
  {
   "cell_type": "markdown",
   "id": "e43b9e67",
   "metadata": {},
   "source": [
    "Tendencia de ventas en el tiempo"
   ]
  },
  {
   "cell_type": "code",
   "execution_count": 6,
   "id": "af6d122d",
   "metadata": {},
   "outputs": [
    {
     "data": {
      "text/plain": [
       "<Axes: title={'center': 'Ventas totales por día'}, xlabel='fecha_salida'>"
      ]
     },
     "execution_count": 6,
     "metadata": {},
     "output_type": "execute_result"
    },
    {
     "data": {
      "image/png": "[encoded data removed]",
      "text/plain": [
       "<Figure size 640x480 with 1 Axes>"
      ]
     },
     "metadata": {},
     "output_type": "display_data"
    }
   ],
   "source": [
    "df.groupby('fecha_salida')['ventas'].sum().plot(title='Ventas totales por día')\n"
   ]
  },
  {
   "cell_type": "markdown",
   "id": "894d051c",
   "metadata": {},
   "source": [
    "Analisis geografico (calculo)"
   ]
  },
  {
   "cell_type": "code",
   "execution_count": 7,
   "id": "dab4d40d",
   "metadata": {},
   "outputs": [],
   "source": [
    "ventas_por_ciudad = df.groupby('ciudad')['ventas'].sum().sort_values(ascending=False)\n",
    "ventas_por_estado = df.groupby('estado')['ventas'].sum().sort_values(ascending=False)\n",
    "ventas_por_pais = df.groupby('pais')['ventas'].sum().sort_values(ascending=False)\n"
   ]
  },
  {
   "cell_type": "code",
   "execution_count": 8,
   "id": "03cc68c7",
   "metadata": {},
   "outputs": [
    {
     "name": "stdout",
     "output_type": "stream",
     "text": [
      "ciudad\n",
      "New York City    256368.16100\n",
      "Los Angeles      175851.34100\n",
      "Manila           120886.94850\n",
      "Seattle          119540.74200\n",
      "San Francisco    112669.09200\n",
      "Philadelphia     109077.01300\n",
      "Sydney           101945.51700\n",
      "Jakarta           94321.32420\n",
      "London            86945.80500\n",
      "Mexico City       85728.55176\n",
      "Name: ventas, dtype: float64\n",
      "ciudad\n",
      "Springdale         4.300\n",
      "San Luis Obispo    3.620\n",
      "Fort Portal        3.573\n",
      "Victoria Falls     3.465\n",
      "Ormond Beach       2.808\n",
      "Felahiye           2.808\n",
      "Pensacola          2.214\n",
      "Jupiter            2.064\n",
      "Elyria             1.824\n",
      "Abilene            1.392\n",
      "Name: ventas, dtype: float64\n"
     ]
    }
   ],
   "source": [
    "print(ventas_por_ciudad.head(10))  # Las top 10\n",
    "print(ventas_por_ciudad.tail(10))  # Las últimas 10\n"
   ]
  },
  {
   "cell_type": "markdown",
   "id": "86421f43",
   "metadata": {},
   "source": [
    "Mayor ingreso por segmentacion"
   ]
  },
  {
   "cell_type": "code",
   "execution_count": 9,
   "id": "3b4c05b8",
   "metadata": {},
   "outputs": [
    {
     "data": {
      "text/plain": [
       "segmento\n",
       "Consumer       26518\n",
       "Corporate      15429\n",
       "Home Office     9343\n",
       "Name: count, dtype: int64"
      ]
     },
     "execution_count": 9,
     "metadata": {},
     "output_type": "execute_result"
    }
   ],
   "source": [
    "df['segmento'].value_counts()\n"
   ]
  },
  {
   "cell_type": "markdown",
   "id": "8da580de",
   "metadata": {},
   "source": [
    "Calcular el tiempo de entrega"
   ]
  },
  {
   "cell_type": "code",
   "execution_count": 10,
   "id": "ce8ece65",
   "metadata": {},
   "outputs": [],
   "source": [
    "df['tiempo_entrega'] = (df['fecha_entrega'] - df['fecha_salida']).dt.days\n"
   ]
  },
  {
   "cell_type": "markdown",
   "id": "e8a6e7f5",
   "metadata": {},
   "source": [
    "Promedio tiempo de entrega (terminos estadisticos)"
   ]
  },
  {
   "cell_type": "code",
   "execution_count": 11,
   "id": "b27fa1c4",
   "metadata": {},
   "outputs": [
    {
     "name": "stdout",
     "output_type": "stream",
     "text": [
      "count    51290.000000\n",
      "mean         3.969370\n",
      "std          1.729437\n",
      "min          0.000000\n",
      "25%          3.000000\n",
      "50%          4.000000\n",
      "75%          5.000000\n",
      "max          7.000000\n",
      "Name: tiempo_entrega, dtype: float64\n"
     ]
    }
   ],
   "source": [
    "print(df['tiempo_entrega'].describe())\n"
   ]
  },
  {
   "cell_type": "markdown",
   "id": "3dab2e1a",
   "metadata": {},
   "source": [
    "Tiempo de entrega (los paises se estan mostrando?)"
   ]
  },
  {
   "cell_type": "code",
   "execution_count": 12,
   "id": "b8940456",
   "metadata": {},
   "outputs": [
    {
     "data": {
      "text/plain": [
       "estado\n",
       "Karaman      7.000000\n",
       "Jizzakh      7.000000\n",
       "Lima         7.000000\n",
       "Tokat        7.000000\n",
       "Ar Raqqah    7.000000\n",
       "Catamarca    7.000000\n",
       "Cojedes      7.000000\n",
       "Saga         7.000000\n",
       "Yaracuy      7.000000\n",
       "Lucerne      6.333333\n",
       "Name: tiempo_entrega, dtype: float64"
      ]
     },
     "execution_count": 12,
     "metadata": {},
     "output_type": "execute_result"
    }
   ],
   "source": [
    "df.groupby('pais')['tiempo_entrega'].mean().sort_values(ascending=False).head(10)\n",
    "df.groupby('estado')['tiempo_entrega'].mean().sort_values(ascending=False).head(10)\n"
   ]
  },
  {
   "cell_type": "markdown",
   "id": "6151453b",
   "metadata": {},
   "source": [
    "Analisis de utilidad de producto"
   ]
  },
  {
   "cell_type": "code",
   "execution_count": 13,
   "id": "5c225ca7",
   "metadata": {},
   "outputs": [],
   "source": [
    "utilidad_por_producto = df.groupby('id_producto')['utilidad'].sum().sort_values(ascending=False)\n"
   ]
  },
  {
   "cell_type": "code",
   "execution_count": 14,
   "id": "c65918ea",
   "metadata": {},
   "outputs": [
    {
     "name": "stdout",
     "output_type": "stream",
     "text": [
      "id_producto\n",
      "TEC-CO-10004722    25199.9280\n",
      "OFF-AP-10004512    10345.5840\n",
      "TEC-PH-10004823     8121.4800\n",
      "OFF-BI-10003527     7753.0390\n",
      "TEC-CO-10001449     6983.8836\n",
      "FUR-CH-10002250     6123.2553\n",
      "TEC-PH-10004664     5455.9482\n",
      "OFF-AP-10002330     5452.4640\n",
      "TEC-PH-10000303     5356.8060\n",
      "FUR-CH-10002203     5003.1000\n",
      "Name: utilidad, dtype: float64\n"
     ]
    }
   ],
   "source": [
    "print(utilidad_por_producto.head(10))\n"
   ]
  },
  {
   "cell_type": "code",
   "execution_count": 15,
   "id": "b74d1914",
   "metadata": {},
   "outputs": [
    {
     "data": {
      "text/html": [
       "<div>\n",
       "<style scoped>\n",
       "    .dataframe tbody tr th:only-of-type {\n",
       "        vertical-align: middle;\n",
       "    }\n",
       "\n",
       "    .dataframe tbody tr th {\n",
       "        vertical-align: top;\n",
       "    }\n",
       "\n",
       "    .dataframe thead th {\n",
       "        text-align: right;\n",
       "    }\n",
       "</style>\n",
       "<table border=\"1\" class=\"dataframe\">\n",
       "  <thead>\n",
       "    <tr style=\"text-align: right;\">\n",
       "      <th></th>\n",
       "      <th>cantidad</th>\n",
       "      <th>utilidad</th>\n",
       "    </tr>\n",
       "    <tr>\n",
       "      <th>id_producto</th>\n",
       "      <th></th>\n",
       "      <th></th>\n",
       "    </tr>\n",
       "  </thead>\n",
       "  <tbody>\n",
       "    <tr>\n",
       "      <th>TEC-CO-10004722</th>\n",
       "      <td>20</td>\n",
       "      <td>25199.9280</td>\n",
       "    </tr>\n",
       "    <tr>\n",
       "      <th>OFF-AP-10004512</th>\n",
       "      <td>38</td>\n",
       "      <td>10345.5840</td>\n",
       "    </tr>\n",
       "    <tr>\n",
       "      <th>TEC-PH-10004823</th>\n",
       "      <td>39</td>\n",
       "      <td>8121.4800</td>\n",
       "    </tr>\n",
       "    <tr>\n",
       "      <th>OFF-BI-10003527</th>\n",
       "      <td>31</td>\n",
       "      <td>7753.0390</td>\n",
       "    </tr>\n",
       "    <tr>\n",
       "      <th>TEC-CO-10001449</th>\n",
       "      <td>38</td>\n",
       "      <td>6983.8836</td>\n",
       "    </tr>\n",
       "    <tr>\n",
       "      <th>FUR-CH-10002250</th>\n",
       "      <td>37</td>\n",
       "      <td>6123.2553</td>\n",
       "    </tr>\n",
       "    <tr>\n",
       "      <th>TEC-PH-10004664</th>\n",
       "      <td>52</td>\n",
       "      <td>5455.9482</td>\n",
       "    </tr>\n",
       "    <tr>\n",
       "      <th>OFF-AP-10002330</th>\n",
       "      <td>38</td>\n",
       "      <td>5452.4640</td>\n",
       "    </tr>\n",
       "    <tr>\n",
       "      <th>TEC-PH-10000303</th>\n",
       "      <td>31</td>\n",
       "      <td>5356.8060</td>\n",
       "    </tr>\n",
       "    <tr>\n",
       "      <th>FUR-CH-10002203</th>\n",
       "      <td>30</td>\n",
       "      <td>5003.1000</td>\n",
       "    </tr>\n",
       "  </tbody>\n",
       "</table>\n",
       "</div>"
      ],
      "text/plain": [
       "                 cantidad    utilidad\n",
       "id_producto                          \n",
       "TEC-CO-10004722        20  25199.9280\n",
       "OFF-AP-10004512        38  10345.5840\n",
       "TEC-PH-10004823        39   8121.4800\n",
       "OFF-BI-10003527        31   7753.0390\n",
       "TEC-CO-10001449        38   6983.8836\n",
       "FUR-CH-10002250        37   6123.2553\n",
       "TEC-PH-10004664        52   5455.9482\n",
       "OFF-AP-10002330        38   5452.4640\n",
       "TEC-PH-10000303        31   5356.8060\n",
       "FUR-CH-10002203        30   5003.1000"
      ]
     },
     "execution_count": 15,
     "metadata": {},
     "output_type": "execute_result"
    }
   ],
   "source": [
    "df.groupby('id_producto')[['cantidad', 'utilidad']].sum().sort_values('utilidad', ascending=False).head(10)\n"
   ]
  }
 ],
 "metadata": {
  "kernelspec": {
   "display_name": "venv",
   "language": "python",
   "name": "python3"
  },
  "language_info": {
   "codemirror_mode": {
    "name": "ipython",
    "version": 3
   },
   "file_extension": ".py",
   "mimetype": "text/x-python",
   "name": "python",
   "nbconvert_exporter": "python",
   "pygments_lexer": "ipython3",
   "version": "3.12.10"
  }
 },
 "nbformat": 4,
 "nbformat_minor": 5
}
